{
 "cells": [
  {
   "cell_type": "code",
   "execution_count": null,
   "id": "de487d7f-9bd2-4da3-a329-b66bb608d566",
   "metadata": {},
   "outputs": [],
   "source": [
    "1. def check_password(password):\n",
    "\n",
    "has_uppercase = False\n",
    "\n",
    "has_lowercase = False\n",
    "\n",
    "has_number = False\n",
    "\n",
    "has_special_characters = 0"
   ]
  },
  {
   "cell_type": "code",
   "execution_count": null,
   "id": "cd85b5c9-3064-4578-890f-8a91a120c606",
   "metadata": {},
   "outputs": [],
   "source": [
    "2. Lambda Function:\n",
    "\n",
    "Check if the string starts with a particular letter:\n",
    "\n",
    "result = list(filter(lambda x: x.startswith('letter'), string))\n",
    "\n",
    "Check if the string is numeric:\n",
    "\n",
    "result = list(filter(lambda x: x.isnumeric(), string))\n",
    "\n",
    "\n",
    "Find the squares of numbers from 1 to 10:\n",
    "\n",
    "result = list(map(lambda x: x**2, range(1,11)))\n",
    "\n",
    "\n",
    "Find the cube root of numbers from 1 to 10:\n",
    "\n",
    "result = list(map(lambda x: x**(1/3), range(1,11)))\n",
    "\n",
    "\n",
    "Check if a given number is even:\n",
    "\n",
    "result = (lambda x: x % 2 == 0)(number)\n",
    "\n",
    "\n",
    "Filter odd numbers from the given list:\n",
    "\n",
    "result = list(filter(lambda x: x % 2 != 0, [1,2,3,4,5,6,7,8,9,10]))\n",
    "\n",
    "\n",
    "Sort a list of tuples having fruit names and their quantity:\n",
    "\n",
    "result = sorted([(\"mango\",99),(\"orange\",80), (\"grapes\", 1000)], key=lambda x:x[1])\n",
    "\n",
    "\n",
    "Sort a list of integers into positive and negative integers lists:\n",
    "\n",
    "pos_list = list(filter(lambda x:x>0, [1,2,3,4,5,6,-1,-2,-3,-4,-5,0]))\n",
    "\n",
    "neg_list = list(filter(lambda x:x<0, [1,2,3,4,5,6,-1,-2,-3,-4,-5,0]))"
   ]
  }
 ],
 "metadata": {
  "kernelspec": {
   "display_name": "Python 3 (ipykernel)",
   "language": "python",
   "name": "python3"
  },
  "language_info": {
   "codemirror_mode": {
    "name": "ipython",
    "version": 3
   },
   "file_extension": ".py",
   "mimetype": "text/x-python",
   "name": "python",
   "nbconvert_exporter": "python",
   "pygments_lexer": "ipython3",
   "version": "3.10.8"
  }
 },
 "nbformat": 4,
 "nbformat_minor": 5
}
